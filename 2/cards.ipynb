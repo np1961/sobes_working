{
 "cells": [
  {
   "cell_type": "code",
   "execution_count": 107,
   "metadata": {},
   "outputs": [],
   "source": [
    "import numpy as np\n",
    "from sys import path\n",
    "path.append('/home/np_1961/instagram/black_pr_company/head/utils/')\n",
    "\n",
    "\n",
    "from emoji import emojize\n",
    "from Terminal import terminal_write\n",
    "\n"
   ]
  },
  {
   "cell_type": "code",
   "execution_count": null,
   "metadata": {},
   "outputs": [],
   "source": []
  },
  {
   "cell_type": "code",
   "execution_count": null,
   "metadata": {},
   "outputs": [],
   "source": []
  },
  {
   "cell_type": "code",
   "execution_count": 138,
   "metadata": {},
   "outputs": [],
   "source": [
    "class CARDS:\n",
    "    def __init__(self):\n",
    "        self.values=['A','2','3','4','5',\n",
    "                         '6','7','8','9','10',\n",
    "                         'J','Q','K']\n",
    "        \n",
    "        self.types=['♢','♣','♡','♠']\n",
    "        self._len_=len(self.values)*len(self.types)\n",
    "        \n",
    "        \n",
    "    def random(self,by):\n",
    "        if by=='values':\n",
    "            random_index=np.random.randint(0,len(self.values))\n",
    "            return self.values[random_index]\n",
    "        elif by=='types':\n",
    "            random_index=np.random.randint(0,len(self.types))\n",
    "            return self.types[random_index]\n",
    "        else:\n",
    "            return self.random(by='values')+self.random(by='types')\n",
    "        \n",
    "    def dealer(self, quantity_cards, success_cards=0):\n",
    "        \n",
    "        last_dealing=list()\n",
    "        \n",
    "        while True:\n",
    "            new_cards=self.random('cards')\n",
    "            if new_cards not in last_dealing:\n",
    "                last_dealing.append(new_cards)\n",
    "                success_cards+=1\n",
    "                terminal_write(text=f\"card number {success_cards} -> {new_cards}\", time_sleep=0.1)\n",
    "                if len(last_dealing)==quantity_cards:\n",
    "                    \n",
    "                    terminal_write(text=f\"left {self._len_-success_cards} cards in dealer hands\", time_sleep=0.1)\n",
    "                    break\n",
    "                    \n",
    "        \n",
    "        \n",
    "        \n",
    "    \n",
    "            "
   ]
  },
  {
   "cell_type": "code",
   "execution_count": null,
   "metadata": {},
   "outputs": [],
   "source": []
  },
  {
   "cell_type": "code",
   "execution_count": 139,
   "metadata": {},
   "outputs": [],
   "source": [
    "cards=CARDS()"
   ]
  },
  {
   "cell_type": "code",
   "execution_count": 140,
   "metadata": {},
   "outputs": [
    {
     "data": {
      "text/plain": [
       "52"
      ]
     },
     "execution_count": 140,
     "metadata": {},
     "output_type": "execute_result"
    }
   ],
   "source": [
    "cards._len_"
   ]
  },
  {
   "cell_type": "code",
   "execution_count": 141,
   "metadata": {
    "scrolled": true
   },
   "outputs": [
    {
     "name": "stdout",
     "output_type": "stream",
     "text": [
      "card number 1 -> 8♠ \n",
      "card number 2 -> 9♠ \n",
      "card number 3 -> 8♡ \n",
      "card number 4 -> 7♠ \n",
      "card number 5 -> 5♣ \n",
      "card number 6 -> K♢ \n",
      "card number 7 -> 2♠ \n",
      "card number 8 -> A♡ \n",
      "card number 9 -> 3♣ \n",
      "card number 10 -> Q♠ \n",
      "card number 11 -> 6♠ \n",
      "card number 12 -> 10♢ \n",
      "card number 13 -> 2♢ \n",
      "card number 14 -> 7♢ \n",
      "left 38 cards in dealer hands \n"
     ]
    }
   ],
   "source": [
    "cards.dealer(quantity_cards=14)"
   ]
  },
  {
   "cell_type": "code",
   "execution_count": null,
   "metadata": {},
   "outputs": [],
   "source": []
  },
  {
   "cell_type": "code",
   "execution_count": null,
   "metadata": {},
   "outputs": [],
   "source": []
  },
  {
   "cell_type": "code",
   "execution_count": null,
   "metadata": {},
   "outputs": [],
   "source": []
  },
  {
   "cell_type": "code",
   "execution_count": null,
   "metadata": {},
   "outputs": [],
   "source": []
  }
 ],
 "metadata": {
  "kernelspec": {
   "display_name": "Python 3",
   "language": "python",
   "name": "python3"
  },
  "language_info": {
   "codemirror_mode": {
    "name": "ipython",
    "version": 3
   },
   "file_extension": ".py",
   "mimetype": "text/x-python",
   "name": "python",
   "nbconvert_exporter": "python",
   "pygments_lexer": "ipython3",
   "version": "3.7.6"
  }
 },
 "nbformat": 4,
 "nbformat_minor": 4
}
