{
 "cells": [
  {
   "cell_type": "code",
   "execution_count": null,
   "metadata": {},
   "outputs": [],
   "source": []
  },
  {
   "cell_type": "code",
   "execution_count": 72,
   "metadata": {},
   "outputs": [],
   "source": [
    "class mini_shifrator:\n",
    "    def __init__(self, interval=3):\n",
    "        self.alphavit='abcdefghijklmnpqrstuvwxyz'\n",
    "        de_alphavit=alphavit[interval:]+alphavit[:interval]\n",
    "        list_alpha=[alpha for alpha in alphavit]\n",
    "        list_de_alpha=[de for de in de_alphavit]\n",
    "        \n",
    "        self.__shifr=dict()\n",
    "        for index,word in enumerate(list_alpha):\n",
    "            self.__shifr[word]=list_de_alpha[index]\n",
    "        print(f\"mini shifrator interval={interval} success True\")\n",
    "    \n",
    "    def __shifr_one_word(self, word):\n",
    "        return self.__shifr[word]\n",
    "    \n",
    "    def give_me_shifr(self,text):\n",
    "        TEXT=''\n",
    "        for word in text:\n",
    "            new_symbol=self.__shifr_one_word(word=word) if word in self.alphavit else word\n",
    "            TEXT+=new_symbol\n",
    "        return TEXT\n",
    "            \n",
    "        \n",
    "        \n",
    "    "
   ]
  },
  {
   "cell_type": "code",
   "execution_count": 73,
   "metadata": {},
   "outputs": [],
   "source": [
    "text='kl_1961'"
   ]
  },
  {
   "cell_type": "code",
   "execution_count": null,
   "metadata": {},
   "outputs": [],
   "source": []
  },
  {
   "cell_type": "code",
   "execution_count": 74,
   "metadata": {},
   "outputs": [
    {
     "name": "stdout",
     "output_type": "stream",
     "text": [
      "mini shifrator interval=3 success True\n"
     ]
    }
   ],
   "source": [
    "mini=mini_shifrator()"
   ]
  },
  {
   "cell_type": "code",
   "execution_count": 76,
   "metadata": {},
   "outputs": [
    {
     "data": {
      "text/plain": [
       "'np_1961'"
      ]
     },
     "execution_count": 76,
     "metadata": {},
     "output_type": "execute_result"
    }
   ],
   "source": [
    "mini.give_me_shifr(text=text)"
   ]
  },
  {
   "cell_type": "code",
   "execution_count": null,
   "metadata": {},
   "outputs": [],
   "source": []
  },
  {
   "cell_type": "code",
   "execution_count": null,
   "metadata": {},
   "outputs": [],
   "source": []
  }
 ],
 "metadata": {
  "kernelspec": {
   "display_name": "Python 3",
   "language": "python",
   "name": "python3"
  },
  "language_info": {
   "codemirror_mode": {
    "name": "ipython",
    "version": 3
   },
   "file_extension": ".py",
   "mimetype": "text/x-python",
   "name": "python",
   "nbconvert_exporter": "python",
   "pygments_lexer": "ipython3",
   "version": "3.7.6"
  }
 },
 "nbformat": 4,
 "nbformat_minor": 4
}
