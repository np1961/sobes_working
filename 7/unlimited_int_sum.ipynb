{
 "cells": [
  {
   "cell_type": "code",
   "execution_count": 20,
   "metadata": {},
   "outputs": [],
   "source": [
    "import numpy as np\n",
    "from pandas import DataFrame\n",
    "from copy import deepcopy as copy"
   ]
  },
  {
   "cell_type": "code",
   "execution_count": 21,
   "metadata": {},
   "outputs": [],
   "source": [
    "value_,_value='13','7'\n",
    "\n",
    "#      13\n",
    "#       8"
   ]
  },
  {
   "cell_type": "code",
   "execution_count": 22,
   "metadata": {},
   "outputs": [
    {
     "data": {
      "text/plain": [
       "'7'"
      ]
     },
     "execution_count": 22,
     "metadata": {},
     "output_type": "execute_result"
    }
   ],
   "source": [
    "_value"
   ]
  },
  {
   "cell_type": "code",
   "execution_count": null,
   "metadata": {},
   "outputs": [],
   "source": []
  },
  {
   "cell_type": "code",
   "execution_count": null,
   "metadata": {},
   "outputs": [],
   "source": []
  },
  {
   "cell_type": "code",
   "execution_count": null,
   "metadata": {},
   "outputs": [],
   "source": []
  },
  {
   "cell_type": "code",
   "execution_count": 23,
   "metadata": {},
   "outputs": [],
   "source": [
    "class preprocessor:\n",
    "    \n",
    "    def preprocessor_short_value(value):\n",
    "        if len(value)<2:\n",
    "            value=value+'0'\n",
    "            value=value[-1]+value[0]\n",
    "        return [val for val in value]\n",
    "\n",
    "    \n",
    "    \n",
    "    def preprocessor_values(value_,_value):\n",
    "        \n",
    "            \n",
    "        _value=preprocessor.preprocessor_short_value(value=_value)\n",
    "        value_=preprocessor.preprocessor_short_value(value=value_)\n",
    "        _value.reverse()\n",
    "        value_.reverse()\n",
    "        value_=[ word for word in value_]\n",
    "        _value=[ word for word in _value]\n",
    "        temp=[value_.append('0') if len(value_)<len(_value\n",
    "                                    ) else  _value.append('0') for zero in range(abs(len(value_)-len(_value)))]\n",
    "\n",
    "        return value_, _value\n",
    "    \n",
    "    def summing(value_,_value):\n",
    "        numbers_in_norm=[]\n",
    "        one_template=0\n",
    "\n",
    "        numbers_in_scan_19=[sum([int(element_),int(_element)]) for element_, _element in zip(value_,_value)]\n",
    "\n",
    "\n",
    "        for number in numbers_in_scan_19:\n",
    "            number+=one_template\n",
    "            if number>9:\n",
    "                number=number-10\n",
    "                numbers_in_norm.append(number)\n",
    "                one_template=1\n",
    "            else:\n",
    "                numbers_in_norm.append(number)\n",
    "                one_template=0\n",
    "\n",
    "        numbers_in_norm.reverse()\n",
    "        numbers_in_norm=np.array(numbers_in_norm, dtype='str')\n",
    "\n",
    "        return numbers_in_norm\n",
    "\n",
    "\n"
   ]
  },
  {
   "cell_type": "code",
   "execution_count": null,
   "metadata": {},
   "outputs": [],
   "source": []
  },
  {
   "cell_type": "code",
   "execution_count": null,
   "metadata": {},
   "outputs": [],
   "source": []
  },
  {
   "cell_type": "code",
   "execution_count": 24,
   "metadata": {},
   "outputs": [],
   "source": [
    "value_,_value=preprocessor.preprocessor_values(value_=value_, _value=_value)"
   ]
  },
  {
   "cell_type": "code",
   "execution_count": 25,
   "metadata": {},
   "outputs": [
    {
     "data": {
      "text/plain": [
       "['3', '1']"
      ]
     },
     "execution_count": 25,
     "metadata": {},
     "output_type": "execute_result"
    }
   ],
   "source": [
    "value_"
   ]
  },
  {
   "cell_type": "code",
   "execution_count": 26,
   "metadata": {},
   "outputs": [
    {
     "data": {
      "text/plain": [
       "['7', '0']"
      ]
     },
     "execution_count": 26,
     "metadata": {},
     "output_type": "execute_result"
    }
   ],
   "source": [
    "_value"
   ]
  },
  {
   "cell_type": "code",
   "execution_count": null,
   "metadata": {},
   "outputs": [],
   "source": []
  },
  {
   "cell_type": "code",
   "execution_count": 27,
   "metadata": {},
   "outputs": [],
   "source": [
    "numbers=preprocessor.summing(value_=value_, _value=_value)"
   ]
  },
  {
   "cell_type": "code",
   "execution_count": 28,
   "metadata": {},
   "outputs": [
    {
     "data": {
      "text/plain": [
       "array(['2', '0'], dtype='<U1')"
      ]
     },
     "execution_count": 28,
     "metadata": {},
     "output_type": "execute_result"
    }
   ],
   "source": [
    "numbers"
   ]
  },
  {
   "cell_type": "code",
   "execution_count": null,
   "metadata": {},
   "outputs": [],
   "source": []
  },
  {
   "cell_type": "code",
   "execution_count": 29,
   "metadata": {},
   "outputs": [],
   "source": [
    "numbers=''.join(numbers)"
   ]
  },
  {
   "cell_type": "code",
   "execution_count": 30,
   "metadata": {},
   "outputs": [
    {
     "data": {
      "text/plain": [
       "'20'"
      ]
     },
     "execution_count": 30,
     "metadata": {},
     "output_type": "execute_result"
    }
   ],
   "source": [
    "numbers"
   ]
  },
  {
   "cell_type": "code",
   "execution_count": null,
   "metadata": {},
   "outputs": [],
   "source": []
  }
 ],
 "metadata": {
  "kernelspec": {
   "display_name": "Python 3",
   "language": "python",
   "name": "python3"
  },
  "language_info": {
   "codemirror_mode": {
    "name": "ipython",
    "version": 3
   },
   "file_extension": ".py",
   "mimetype": "text/x-python",
   "name": "python",
   "nbconvert_exporter": "python",
   "pygments_lexer": "ipython3",
   "version": "3.7.6"
  }
 },
 "nbformat": 4,
 "nbformat_minor": 4
}
